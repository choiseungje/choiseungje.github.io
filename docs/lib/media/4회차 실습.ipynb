{
 "cells": [
  {
   "cell_type": "code",
   "id": "initial_id",
   "metadata": {
    "collapsed": true,
    "jupyter": {
     "is_executing": true
    }
   },
   "source": "import torch",
   "outputs": [],
   "execution_count": null
  },
  {
   "metadata": {},
   "cell_type": "code",
   "source": [
    "x = torch.randn(4,5)\n",
    "print(x)\n",
    "y = x.view(20)\n",
    "print(y)\n",
    "z = x.view(5,-1)\n",
    "print(z)"
   ],
   "id": "87f257df96159feb",
   "outputs": [],
   "execution_count": null
  },
  {
   "metadata": {},
   "cell_type": "code",
   "source": [
    "x = torch.randn(1)\n",
    "print(x.item())"
   ],
   "id": "b92f78b02edd223c",
   "outputs": [],
   "execution_count": null
  },
  {
   "metadata": {},
   "cell_type": "code",
   "source": [
    "tensor = torch.rand(1,3,3,)\n",
    "print(tensor)\n",
    "print(tensor.shape)\n",
    "t1 = tensor.squeeze()#차원을 축소한다\n",
    "print(t1)\n",
    "print(t1.shape)\n",
    "t2 = tensor.unsqueeze(2)# 차원을 삽입한다\n",
    "print(t2)\n",
    "print(t2.shape)"
   ],
   "id": "f392438b7bc33401",
   "outputs": [],
   "execution_count": null
  },
  {
   "metadata": {},
   "cell_type": "code",
   "source": [
    "x = torch.FloatTensor([1,4])\n",
    "print(x)\n",
    "y = torch.FloatTensor([2,5])\n",
    "print(y)\n",
    "print(torch.stack([x,y])) # 텐소간의 결합 \n"
   ],
   "id": "d80b1d895a6b14a1",
   "outputs": [],
   "execution_count": null
  },
  {
   "metadata": {},
   "cell_type": "code",
   "source": [
    "x = torch.randn(1,2,3)\n",
    "print(x)\n",
    "y = torch.randn(1,2,3)\n",
    "print(y)\n",
    "c = torch.cat((x,y),dim=0) #텐서간의 결합 (dim이 존재해야함)\n",
    "print(c)\n",
    "print(c.shape)"
   ],
   "id": "ceec52afa7e6d3a0",
   "outputs": [],
   "execution_count": null
  },
  {
   "metadata": {},
   "cell_type": "code",
   "source": [
    "a = torch.randn(3,3)\n",
    "a = a * 3\n",
    "print(a)\n",
    "print(a.requires_grad)"
   ],
   "id": "60df40305b121194",
   "outputs": [],
   "execution_count": null
  },
  {
   "metadata": {},
   "cell_type": "code",
   "source": [
    "a.requires_grad_(True)\n",
    "print(a.requires_grad)\n",
    "\n",
    "b = (a*a).sum()\n",
    "print(b)\n",
    "print(b.grad_fn)#grad_fn:미분값을 계산한 함수의 정보 저장"
   ],
   "id": "2f0dd899f1cb42ef",
   "outputs": [],
   "execution_count": null
  },
  {
   "metadata": {},
   "cell_type": "code",
   "source": [
    "x = torch.ones(3,3, requires_grad=True)\n",
    "print(x)\n",
    "\n",
    "y = x + 5\n",
    "print(y)\n",
    "\n",
    "a = y * y\n",
    "answer = a.mean()\n",
    "print(a, answer)"
   ],
   "id": "ecf95a1c49011f5f",
   "outputs": [],
   "execution_count": null
  },
  {
   "metadata": {},
   "cell_type": "code",
   "source": [
    "print(answer)\n",
    "answer.backward()# 자동으로 역전파 계산이 가능"
   ],
   "id": "800b9191c462c082",
   "outputs": [],
   "execution_count": null
  },
  {
   "metadata": {},
   "cell_type": "code",
   "source": [
    "print(x)\n",
    "print(x.grad)"
   ],
   "id": "7cbcd57ca221eba2",
   "outputs": [],
   "execution_count": null
  },
  {
   "metadata": {},
   "cell_type": "code",
   "source": [
    "x = torch.randn(3,requires_grad=True)\n",
    "\n",
    "y = x * 2\n",
    "while y.data.norm() < 1000:\n",
    "    y = y*2\n",
    "print(y)"
   ],
   "id": "55ed7f4ed14e3a75",
   "outputs": [],
   "execution_count": null
  },
  {
   "metadata": {},
   "cell_type": "code",
   "source": [
    "k = torch.tensor([0.1,1.0,0.0001], dtype=torch.float)\n",
    "y.backward(k)\n",
    "\n",
    "print(x.grad)"
   ],
   "id": "14b5db54d926eda9",
   "outputs": [],
   "execution_count": null
  },
  {
   "metadata": {},
   "cell_type": "code",
   "source": [
    "from torch.utils.data import Dataset, DataLoader\n",
    "from torchvision  import datasets, transforms"
   ],
   "id": "27b909088ff3df5c",
   "outputs": [],
   "execution_count": null
  },
  {
   "metadata": {},
   "cell_type": "code",
   "source": [
    "mt = transforms.Compose([\n",
    "    transforms.ToTensor(),\n",
    "    transforms.Normalize((0.5, 0.5, 0.5), (0.5, 0.5, 0.5))\n",
    "])"
   ],
   "id": "567f9f8edc66e886",
   "outputs": [],
   "execution_count": null
  },
  {
   "metadata": {},
   "cell_type": "code",
   "source": [
    "train = datasets.MNIST('C:/Users/com/PycharmProjects', train=True, download=True, transform=mt)\n",
    "test = datasets.MNIST('C:/Users/com/PycharmProjects', train = False,download=True, transform=mt)\n",
    "print(train.data.shape)"
   ],
   "id": "5327816d602d8795",
   "outputs": [],
   "execution_count": null
  },
  {
   "metadata": {},
   "cell_type": "markdown",
   "source": "",
   "id": "97416fde6218b845"
  },
  {
   "metadata": {},
   "cell_type": "code",
   "source": [
    "train_loader = DataLoader(train, batch_size=8, shuffle=True,num_workers=2)\n",
    "test_loader = DataLoader(test, batch_size=8, shuffle=False,num_workers=2)"
   ],
   "id": "afe4e3fe61f903e7",
   "outputs": [],
   "execution_count": null
  },
  {
   "metadata": {},
   "cell_type": "code",
   "source": "",
   "id": "5b7ee9b4c29a238c",
   "outputs": [],
   "execution_count": null
  },
  {
   "metadata": {},
   "cell_type": "code",
   "source": [
    "import matplotlib.pyplot as plt\n",
    "\n",
    "figure = plt.figure(figsize=(12, 6))\n",
    "cols, rows = 4, 2\n",
    "for i in range(1, cols * rows + 1):\n",
    "    sample_idx = torch.randint(len(train), size=(1,)).item()\n",
    "    img, label = train[sample_idx]\n",
    "    figure.add_subplot(rows, cols, i)\n",
    "    plt.imshow(img)\n",
    "    plt.axis('off')\n",
    "    plt.imshow(img.squeeze(), cmap='gray')\n",
    "plt.show()"
   ],
   "id": "8b6968798fa9dc4f",
   "outputs": [],
   "execution_count": null
  },
  {
   "metadata": {},
   "cell_type": "code",
   "source": "",
   "id": "c4c2579e3680b23",
   "outputs": [],
   "execution_count": null
  }
 ],
 "metadata": {
  "kernelspec": {
   "display_name": "Python 3",
   "language": "python",
   "name": "python3"
  },
  "language_info": {
   "codemirror_mode": {
    "name": "ipython",
    "version": 2
   },
   "file_extension": ".py",
   "mimetype": "text/x-python",
   "name": "python",
   "nbconvert_exporter": "python",
   "pygments_lexer": "ipython2",
   "version": "2.7.6"
  }
 },
 "nbformat": 4,
 "nbformat_minor": 5
}
